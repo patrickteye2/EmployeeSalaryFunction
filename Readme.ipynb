{
 "cells": [
  {
   "cell_type": "markdown",
   "id": "45a86a26-57e1-44fc-a497-ae5b374ee911",
   "metadata": {},
   "source": [
    "# Employee Salary Data Processing — Python & R Notebook\n",
    "\n",
    "This notebook provides a step-by-step workflow for **searching employee salary data**, exporting the results, and handling data using both **Python** and **R**.\n",
    "\n",
    "\n",
    "## Features\n",
    "\n",
    "### Python Section:\n",
    "- Unzips a dataset file (`.zip`)\n",
    "- Loads a `.csv` dataset using `pandas`\n",
    "- Defines a function `employee_function()` to:\n",
    "  - Prompt for an employee name\n",
    "  - Search for the employee (case-insensitive)\n",
    "  - Return:\n",
    "    - A full row of data (as a table)\n",
    "    - A salary summary (as a dictionary)\n",
    "- Exports matched results to a `.csv` file\n",
    "- Compresses the `.csv` file into a `.zip` archive\n",
    "- Removes intermediate files to keep the workspace clean\n",
    "\n",
    "### R Section:\n",
    "- Unzips the output zip file using `unzip()`\n",
    "- Reads the extracted `.csv` file using `read.csv()`\n",
    "- Displays the contents using `head()` or viewing the full table\n",
    "- Can be extended to perform further analysis in R\n",
    "\n",
    "## How to Use\n",
    "\n",
    "1. Run the Python cells from top to bottom.\n",
    "2. When prompted, enter a valid employee name.\n",
    "3. View the returned table and salary summary.\n",
    "4. Review the exported file or process it in R (optional).\n",
    "5. Use the R cells to unzip and analyze the CSV.\n",
    "\n",
    "## Example Inputs\n",
    "\n",
    "- `PATRICK GARDNER`\n",
    "- `JANE DOE`\n",
    "- (Employee names must match what's in the `EmployeeName` column of the CSV.)\n",
    "\n",
    "### Sample Output\n",
    "\n",
    "```python\n",
    "{'Name': 'PATRICK GARDNER', 'Salary': 326373.19}\n",
    "\n",
    "\n",
    "## Notes\n",
    "\n",
    "- Be sure that `Total.csv.zip` is present in the same folder as the notebook.\n",
    "- The script will automatically clean up temporary files after zipping.\n",
    "- You can run this entire workflow inside **Jupyter Notebook** or **JupyterLab**."
   ]
  }
 ],
 "metadata": {
  "kernelspec": {
   "display_name": "",
   "name": ""
  },
  "language_info": {
   "name": ""
  }
 },
 "nbformat": 4,
 "nbformat_minor": 5
}
