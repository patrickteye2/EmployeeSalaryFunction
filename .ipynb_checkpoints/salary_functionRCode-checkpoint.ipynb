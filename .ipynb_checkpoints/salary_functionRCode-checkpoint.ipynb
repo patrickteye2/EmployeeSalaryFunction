{
 "cells": [
  {
   "cell_type": "code",
   "execution_count": 16,
   "id": "cf8153cb-9a20-40c0-b614-4b1a74eb1481",
   "metadata": {},
   "outputs": [],
   "source": [
    "# Unzipping folder \n",
    "unzip('extract_data.zip', exdir = 'unzipped_data')"
   ]
  },
  {
   "cell_type": "code",
   "execution_count": 17,
   "id": "927000eb-b9e1-43ef-bf1c-47925ec3b0a5",
   "metadata": {},
   "outputs": [],
   "source": [
    "# Reading file\n",
    "df <- read.csv('unzipped_data/extract_data.csv')"
   ]
  },
  {
   "cell_type": "code",
   "execution_count": 18,
   "id": "dae113ed-449d-4802-a141-a0750ee94499",
   "metadata": {},
   "outputs": [
    {
     "data": {
      "text/html": [
       "<table class=\"dataframe\">\n",
       "<caption>A data.frame: 1 × 9</caption>\n",
       "<thead>\n",
       "\t<tr><th></th><th scope=col>EmployeeName</th><th scope=col>JobTitle</th><th scope=col>BasePay</th><th scope=col>OvertimePay</th><th scope=col>OtherPay</th><th scope=col>Benefits</th><th scope=col>TotalPay</th><th scope=col>TotalPayBenefits</th><th scope=col>Year</th></tr>\n",
       "\t<tr><th></th><th scope=col>&lt;chr&gt;</th><th scope=col>&lt;chr&gt;</th><th scope=col>&lt;dbl&gt;</th><th scope=col>&lt;dbl&gt;</th><th scope=col>&lt;dbl&gt;</th><th scope=col>&lt;chr&gt;</th><th scope=col>&lt;dbl&gt;</th><th scope=col>&lt;dbl&gt;</th><th scope=col>&lt;int&gt;</th></tr>\n",
       "</thead>\n",
       "<tbody>\n",
       "\t<tr><th scope=row>1</th><td>PATRICK GARDNER</td><td>DEPUTY CHIEF OF DEPARTMENT,(FIRE DEPARTMENT)</td><td>134401.6</td><td>9737</td><td>182234.6</td><td>Not Provided</td><td>326373.2</td><td>326373.2</td><td>2011</td></tr>\n",
       "</tbody>\n",
       "</table>\n"
      ],
      "text/latex": [
       "A data.frame: 1 × 9\n",
       "\\begin{tabular}{r|lllllllll}\n",
       "  & EmployeeName & JobTitle & BasePay & OvertimePay & OtherPay & Benefits & TotalPay & TotalPayBenefits & Year\\\\\n",
       "  & <chr> & <chr> & <dbl> & <dbl> & <dbl> & <chr> & <dbl> & <dbl> & <int>\\\\\n",
       "\\hline\n",
       "\t1 & PATRICK GARDNER & DEPUTY CHIEF OF DEPARTMENT,(FIRE DEPARTMENT) & 134401.6 & 9737 & 182234.6 & Not Provided & 326373.2 & 326373.2 & 2011\\\\\n",
       "\\end{tabular}\n"
      ],
      "text/markdown": [
       "\n",
       "A data.frame: 1 × 9\n",
       "\n",
       "| <!--/--> | EmployeeName &lt;chr&gt; | JobTitle &lt;chr&gt; | BasePay &lt;dbl&gt; | OvertimePay &lt;dbl&gt; | OtherPay &lt;dbl&gt; | Benefits &lt;chr&gt; | TotalPay &lt;dbl&gt; | TotalPayBenefits &lt;dbl&gt; | Year &lt;int&gt; |\n",
       "|---|---|---|---|---|---|---|---|---|---|\n",
       "| 1 | PATRICK GARDNER | DEPUTY CHIEF OF DEPARTMENT,(FIRE DEPARTMENT) | 134401.6 | 9737 | 182234.6 | Not Provided | 326373.2 | 326373.2 | 2011 |\n",
       "\n"
      ],
      "text/plain": [
       "  EmployeeName    JobTitle                                     BasePay \n",
       "1 PATRICK GARDNER DEPUTY CHIEF OF DEPARTMENT,(FIRE DEPARTMENT) 134401.6\n",
       "  OvertimePay OtherPay Benefits     TotalPay TotalPayBenefits Year\n",
       "1 9737        182234.6 Not Provided 326373.2 326373.2         2011"
      ]
     },
     "metadata": {},
     "output_type": "display_data"
    }
   ],
   "source": [
    "# Inspecting file \n",
    "head(df)"
   ]
  },
  {
   "cell_type": "code",
   "execution_count": null,
   "id": "c6c545b2-4852-4d74-b116-f5f64e18527a",
   "metadata": {},
   "outputs": [],
   "source": []
  }
 ],
 "metadata": {
  "kernelspec": {
   "display_name": "R",
   "language": "R",
   "name": "ir"
  },
  "language_info": {
   "codemirror_mode": "r",
   "file_extension": ".r",
   "mimetype": "text/x-r-source",
   "name": "R",
   "pygments_lexer": "r",
   "version": "4.4.3"
  }
 },
 "nbformat": 4,
 "nbformat_minor": 5
}
